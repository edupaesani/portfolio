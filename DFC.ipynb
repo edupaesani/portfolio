class Cashflow:
    def __init__(self, val,t,r):
        self.val = val
        self.t = t
        self.r = r
        self.PV = self.valAt(0)
    def valAt(self,time):
        return self.val*(1+self.r)**(time-self.t)
        
